{
 "cells": [
  {
   "cell_type": "markdown",
   "id": "56b06432-b4ab-4d0f-93e6-04ed0b106936",
   "metadata": {},
   "source": [
    "### FCS CYCLE 49\n",
    "### Assignment 5\n",
    "### Due Date: December 3rd, 10am"
   ]
  },
  {
   "cell_type": "markdown",
   "id": "90c18aa7-2240-4909-840f-8902cb25f3ff",
   "metadata": {},
   "source": [
    "### Family Tree\n",
    "\n",
    "Your task is to implement a family tree (where every node has a name, family name and birthdate\n",
    "in Python. The program should start by displaying the following menu:"
   ]
  },
  {
   "cell_type": "markdown",
   "id": "bd2fe57d-ee3c-4f59-a6df-61ed18075a71",
   "metadata": {},
   "source": [
    "1. Add Family Member\n",
    "2. Display Sorted Birthdays\n",
    "3. Find Relationship\n",
    "4. Visualize Family Tree\n",
    "5. Count Same First Names\n",
    "6. Exit\n",
    "- - - - - - - - - - - - - - -"
   ]
  },
  {
   "cell_type": "markdown",
   "id": "33891f90-6f8e-4186-b2aa-a8ea931d6213",
   "metadata": {},
   "source": [
    "<b>Choice 1:</b> This function takes a new member's details (name, family name, birthdate) as well as\n",
    "the parent node and adds a new member to the family tree.\n",
    "\n",
    "<b>Choice 2:</b> This function returns a list of all family members' birthdate, sorted in chronological\n",
    "order.\n",
    "\n",
    "<b>Choice 3:</b> This function takes two family member nodes as arguments and returns the\n",
    "relationship between the two nodes (e.g., parent, grandparent, great grandparent, great great\n",
    "grandparent. child, etc.).\n",
    "\n",
    "<b>Choice 4:</b> This function displays the tree visually using a third-party library that the you will\n",
    "research and implement.\n",
    "\n",
    "<b>Choice 5:</b> This function takes a first name as arguments and returns the count of family members\n",
    "in the tree with that first name\n",
    "\n",
    "<b>Choice 6:</b> Exits the program"
   ]
  },
  {
   "cell_type": "code",
   "execution_count": null,
   "id": "28750b7d-69be-4b87-8ee2-92b72543c234",
   "metadata": {},
   "outputs": [],
   "source": []
  },
  {
   "cell_type": "code",
   "execution_count": null,
   "id": "612aa1b3-269d-456e-aa06-d8496eac7e1e",
   "metadata": {},
   "outputs": [],
   "source": []
  },
  {
   "cell_type": "code",
   "execution_count": 67,
   "id": "8fa60bbe-6345-4ed1-981d-c2c370a45a6b",
   "metadata": {},
   "outputs": [],
   "source": [
    "from treelib import Node, Tree as display\n",
    "from collections import Counter\n",
    "dsp = display()\n",
    "\n",
    "\n",
    "class Person:\n",
    "    def __init__(self, name, family, birthdate, parent=None):\n",
    "        self.name = name\n",
    "        self.family = family\n",
    "        self.birthdate = birthdate\n",
    "        self.parent = parent\n",
    "\n",
    "class Tree:\n",
    "    def __init__(self):\n",
    "        self.nodes = []\n",
    "        self.full_name = []\n",
    "        self.birthdays = []\n",
    "        self.first_name = []\n",
    "\n",
    "    def add_root(self):\n",
    "        name = input(\"enter name: \")\n",
    "        family = input(\"enter family: \")\n",
    "        birthdate = input(\"enter birthdate: \")\n",
    "        while (not birthdate.isnumeric()):\n",
    "            birthdate = input(\"enter birthdate: \")\n",
    "        self.nodes.append(Person(name, family, birthdate))\n",
    "        self.root = Person(name, family, birthdate)\n",
    "        self.full_name.append(self.root.name + ' ' + self.root.family)\n",
    "        self.first_name.append(self.root.name)\n",
    "        self.birthdays.append(self.root.birthdate)\n",
    "\n",
    "    def add_member(self):\n",
    "\n",
    "        print(\"enter parent: \")\n",
    "\n",
    "        name = input(\"enter name: \")\n",
    "        family = input(\"enter family: \")\n",
    "        while((name + ' ' + family) not in self.full_name):\n",
    "            name = input(\"enter name: \")\n",
    "            family = input(\"enter family: \")\n",
    "        birthdate = input(\"enter birthdate: \")\n",
    "        while (not birthdate.isnumeric()):\n",
    "            birthdate = input(\"enter birthdate: \")\n",
    "        parent = Person(name, family, birthdate)\n",
    "\n",
    "\n",
    "        print(\"enter new person: \")\n",
    "        name = input(\"enter name: \")\n",
    "        family = input(\"enter family: \")\n",
    "        birthdate = input(\"enter birthdate: \")\n",
    "        while (not birthdate.isnumeric()):\n",
    "            birthdate = input(\"enter birthdate: \")\n",
    "        self.first_name.append(name)\n",
    "        self.birthdays.append(birthdate)\n",
    "        self.full_name.append(name + ' ' + family)\n",
    "        self.nodes.append(Person(name, family, birthdate, parent))\n",
    "\n",
    "    def display(self):\n",
    "         if len(self.nodes) == 0:\n",
    "             print(\"nothing yet\")\n",
    "         else:\n",
    "             dsp.create_node(self.root.name + ' ' + self.root.family, self.root.name + ' ' + self.root.family)\n",
    "             for node in self.nodes[1:]:\n",
    "                 dsp.create_node(node.name + ' ' + node.family, node.name + ' ' + node.family, \n",
    "                                 parent = node.parent.name + ' ' + node.parent.family)\n",
    "             dsp.show()\n",
    "    def count(self):\n",
    "        print(Counter(self.first_name))\n",
    "\n",
    "    def birth(self):\n",
    "        return self.birthdays"
   ]
  },
  {
   "cell_type": "code",
   "execution_count": 68,
   "id": "229167fd-17b1-4905-9875-31df6445897c",
   "metadata": {},
   "outputs": [
    {
     "name": "stdin",
     "output_type": "stream",
     "text": [
      "enter name:  name1\n",
      "enter family:  family1\n",
      "enter birthdate:  1998\n"
     ]
    },
    {
     "name": "stdout",
     "output_type": "stream",
     "text": [
      "enter parent: \n"
     ]
    },
    {
     "name": "stdin",
     "output_type": "stream",
     "text": [
      "enter name:  name1\n",
      "enter family:  family1\n",
      "enter birthdate:  1998\n"
     ]
    },
    {
     "name": "stdout",
     "output_type": "stream",
     "text": [
      "enter new person: \n"
     ]
    },
    {
     "name": "stdin",
     "output_type": "stream",
     "text": [
      "enter name:  name1\n",
      "enter family:  family_extra\n",
      "enter birthdate:  2000\n"
     ]
    }
   ],
   "source": [
    "tree = Tree()\n",
    "tree.add_root()\n",
    "tree.add_member()"
   ]
  },
  {
   "cell_type": "code",
   "execution_count": 69,
   "id": "40ebfe66-50fa-48cd-849e-c69c77a3c49b",
   "metadata": {},
   "outputs": [
    {
     "name": "stdout",
     "output_type": "stream",
     "text": [
      "enter parent: \n"
     ]
    },
    {
     "name": "stdin",
     "output_type": "stream",
     "text": [
      "enter name:  name1\n",
      "enter family:  family1\n",
      "enter birthdate:  1998\n"
     ]
    },
    {
     "name": "stdout",
     "output_type": "stream",
     "text": [
      "enter new person: \n"
     ]
    },
    {
     "name": "stdin",
     "output_type": "stream",
     "text": [
      "enter name:  name3\n",
      "enter family:  family3\n",
      "enter birthdate:  2002\n"
     ]
    }
   ],
   "source": [
    "tree.add_member()"
   ]
  },
  {
   "cell_type": "code",
   "execution_count": 70,
   "id": "e124e70e-d414-4deb-b132-cb44413023f8",
   "metadata": {},
   "outputs": [
    {
     "name": "stdout",
     "output_type": "stream",
     "text": [
      "b'name1 family1\\n\\xe2\\x94\\x9c\\xe2\\x94\\x80\\xe2\\x94\\x80 name1 family_extra\\n\\xe2\\x94\\x94\\xe2\\x94\\x80\\xe2\\x94\\x80 name3 family3\\n'\n"
     ]
    }
   ],
   "source": [
    "tree.display()"
   ]
  },
  {
   "cell_type": "code",
   "execution_count": 71,
   "id": "e504d3e2-8a13-4158-8b82-5d7eaa2183c1",
   "metadata": {},
   "outputs": [
    {
     "name": "stdout",
     "output_type": "stream",
     "text": [
      "Counter({'name1': 2, 'name3': 1})\n"
     ]
    },
    {
     "data": {
      "text/plain": [
       "['1998', '2000', '2002']"
      ]
     },
     "execution_count": 71,
     "metadata": {},
     "output_type": "execute_result"
    }
   ],
   "source": [
    "tree.count()\n",
    "tree.birth()"
   ]
  },
  {
   "cell_type": "code",
   "execution_count": null,
   "id": "e7ead257-d80e-41ca-b8c0-86504a0bc3c6",
   "metadata": {},
   "outputs": [],
   "source": [
    "# note some of the functions are not finished or implemented"
   ]
  },
  {
   "cell_type": "code",
   "execution_count": 11,
   "id": "9d4967ff-ff89-4f39-93ab-bea388ec1764",
   "metadata": {},
   "outputs": [],
   "source": []
  },
  {
   "cell_type": "code",
   "execution_count": null,
   "id": "237c3a5b-84e3-4fb0-a0d9-d0865b0805f5",
   "metadata": {},
   "outputs": [],
   "source": []
  },
  {
   "cell_type": "code",
   "execution_count": null,
   "id": "a5122766-582d-4caa-9eaa-1468eee61a86",
   "metadata": {},
   "outputs": [],
   "source": []
  },
  {
   "cell_type": "code",
   "execution_count": null,
   "id": "c674cf3e-c327-4cf5-bd86-3d652d82530b",
   "metadata": {},
   "outputs": [],
   "source": []
  },
  {
   "cell_type": "code",
   "execution_count": null,
   "id": "c675a9ab-5ff7-4065-a26f-026eddd58310",
   "metadata": {},
   "outputs": [],
   "source": []
  },
  {
   "cell_type": "markdown",
   "id": "bae72bbb-aea0-4e3a-be00-803fef23ae7e",
   "metadata": {},
   "source": [
    "### Social Media Platform\n",
    "\n",
    "For this part you need to use Adjacency List for your implementation. You have been tasked\n",
    "with developing a social media platform using graphs. Each vertex in the graph represents a\n",
    "user, and each edge represents a connection between two users (i.e., a friend relationship). Your\n",
    "program should provide a user-friendly menu that allows users to perform the following\n",
    "actions:\n",
    "\n",
    "1. Add a user to the platform.\n",
    "2. Remove a user from the platform.\n",
    "3. Send a friend request to another user.\n",
    "4. Remove a friend from your list.\n",
    "5. View your list of friends.\n",
    "6. View the list of users on the platform.\n",
    "7. Exit\n",
    "- - - - - - - - - - - - - - -\n",
    "Enter a choice:\n",
    "\n",
    "Your program should ensure that each user has a unique identifier (e.g., a username) and that\n",
    "friend requests and removals are properly reflected in the graph. Additionally, your program\n",
    "should implement appropriate error handling for invalid user inputs (e.g., attempting to add a\n",
    "user with a duplicate username). Good luck!\n",
    "\n",
    "<b>Choice 1:</b> will prompt you to add a new user to your platform if the user already exists (their\n",
    "username is already used by someone) your system should warn you and prompts you to use\n",
    "another username\n",
    "\n",
    "<b>Choice 2:</b> will prompt you to remove a user from your platform, if the user given does not exist\n",
    "your system should warn you and prompt you to make sure of the username. When the user is\n",
    "removed, all their connections (i.e., edges in the graph) should be removed as well to maintain\n",
    "the integrity of the social network.\n",
    "\n",
    "<b>Choice 3:</b> will prompt you to add a connection between 2 users (the input should be 2 users),\n",
    "when a request is sent, an edge is added between the two users in the graph, representing their\n",
    "connection.\n",
    "\n",
    "<b>Choice 4:</b> will prompt you to remove a connection between 2 users (the input should be 2\n",
    "users), which means that the edge between the two users in the graph is removed. This can be\n",
    "useful when users no longer wish to be connected or when a friendship has ended.\n",
    "\n",
    "<b>Choice 5:</b> will prompt you to give a user, and returns a list of all the users who are currently\n",
    "friends, this list should be generated based on the edges in the graph that connect the user to\n",
    "their friends.\n",
    "\n",
    "<b>Choice 6:</b> will print all the users that are registered on your system (prints all usernames), the\n",
    "usernames should be printed based on the vertices in the graph, which represent each user.\n",
    "\n",
    "<b>Choice 7:</b> Terminates the program."
   ]
  },
  {
   "cell_type": "code",
   "execution_count": 25,
   "id": "d4d43cdd-4a77-4080-b93d-adf3df6f93a1",
   "metadata": {},
   "outputs": [],
   "source": [
    "class AdjaencyMatrix:\n",
    "\n",
    "  def __init__(self):\n",
    "    self.users = {}\n",
    "  \n",
    "  def addUser(self, user):\n",
    "\n",
    "    if user not in self.users:\n",
    "        self.users[user] = []\n",
    "    else:\n",
    "        print(\"user is present\")\n",
    "  \n",
    "  def addEdge(self, user1, user2):\n",
    "\n",
    "    if user1 in self.users and user2 in self.users:\n",
    "        self.users[user1].append(user2)\n",
    "        self.users[user2].append(user1)\n",
    "    else:\n",
    "        print(\"users not present\")\n",
    "\n",
    "  def displayGraph(self, user):\n",
    "      if user in self.users:\n",
    "          print(f\"{user} -> {self.users[user]}\")\n",
    "      else:\n",
    "          print(\"user is not present\")\n",
    "\n",
    "  def removeEdge(self, user1, user2):\n",
    "\n",
    "    if user1 in self.users and user2 in self.users:\n",
    "        self.users[user1].remove(user2)\n",
    "        self.users[user2].remove(user1)\n",
    "    else:\n",
    "        print(\"users not present\")\n",
    "\n",
    "\n",
    "  def removeUser(self, user):\n",
    "\n",
    "    if user in self.users:\n",
    "        del self.users[user]\n",
    "        for other_user in self.users:\n",
    "            if user in self.users[other_user]:\n",
    "                self.users[other_user].remove(user)\n",
    "    else:\n",
    "        print(\"user not found\")\n",
    "\n",
    "  def getUsers(self):\n",
    "      return self.users.keys()\n"
   ]
  },
  {
   "cell_type": "code",
   "execution_count": 26,
   "id": "1812bbac-c01b-4b14-9375-f874b6aca10c",
   "metadata": {},
   "outputs": [
    {
     "name": "stdout",
     "output_type": "stream",
     "text": [
      "\n",
      "    \n",
      "    1. Add a user to the platform.\n",
      "    2. Remove a user from the platform.\n",
      "    3. Send a friend request to another user.\n",
      "    4. Remove a friend from your list.\n",
      "    5. View your list of friends.\n",
      "    6. View the list of users on the platform.\n",
      "    7. Exit\n",
      "    - - - - - - - - - - - - - - -\n",
      "    Enter a choice:\n",
      "\n",
      "    \n",
      "number should be between 1 and 7 inclusive, any number other than that will default to 7\n"
     ]
    },
    {
     "name": "stdin",
     "output_type": "stream",
     "text": [
      "please input integer:  1\n",
      "enter user:  user1\n"
     ]
    },
    {
     "name": "stdout",
     "output_type": "stream",
     "text": [
      "\n",
      "    \n",
      "    1. Add a user to the platform.\n",
      "    2. Remove a user from the platform.\n",
      "    3. Send a friend request to another user.\n",
      "    4. Remove a friend from your list.\n",
      "    5. View your list of friends.\n",
      "    6. View the list of users on the platform.\n",
      "    7. Exit\n",
      "    - - - - - - - - - - - - - - -\n",
      "    Enter a choice:\n",
      "\n",
      "    \n",
      "number should be between 1 and 7 inclusive, any number other than that will default to 7\n"
     ]
    },
    {
     "name": "stdin",
     "output_type": "stream",
     "text": [
      "please input integer:  1\n",
      "enter user:  user2\n"
     ]
    },
    {
     "name": "stdout",
     "output_type": "stream",
     "text": [
      "\n",
      "    \n",
      "    1. Add a user to the platform.\n",
      "    2. Remove a user from the platform.\n",
      "    3. Send a friend request to another user.\n",
      "    4. Remove a friend from your list.\n",
      "    5. View your list of friends.\n",
      "    6. View the list of users on the platform.\n",
      "    7. Exit\n",
      "    - - - - - - - - - - - - - - -\n",
      "    Enter a choice:\n",
      "\n",
      "    \n",
      "number should be between 1 and 7 inclusive, any number other than that will default to 7\n"
     ]
    },
    {
     "name": "stdin",
     "output_type": "stream",
     "text": [
      "please input integer:  1\n",
      "enter user:  user3\n"
     ]
    },
    {
     "name": "stdout",
     "output_type": "stream",
     "text": [
      "\n",
      "    \n",
      "    1. Add a user to the platform.\n",
      "    2. Remove a user from the platform.\n",
      "    3. Send a friend request to another user.\n",
      "    4. Remove a friend from your list.\n",
      "    5. View your list of friends.\n",
      "    6. View the list of users on the platform.\n",
      "    7. Exit\n",
      "    - - - - - - - - - - - - - - -\n",
      "    Enter a choice:\n",
      "\n",
      "    \n",
      "number should be between 1 and 7 inclusive, any number other than that will default to 7\n"
     ]
    },
    {
     "name": "stdin",
     "output_type": "stream",
     "text": [
      "please input integer:  3\n",
      "enter user:  user5\n",
      "enter user:  user6\n"
     ]
    },
    {
     "name": "stdout",
     "output_type": "stream",
     "text": [
      "users not present\n",
      "\n",
      "    \n",
      "    1. Add a user to the platform.\n",
      "    2. Remove a user from the platform.\n",
      "    3. Send a friend request to another user.\n",
      "    4. Remove a friend from your list.\n",
      "    5. View your list of friends.\n",
      "    6. View the list of users on the platform.\n",
      "    7. Exit\n",
      "    - - - - - - - - - - - - - - -\n",
      "    Enter a choice:\n",
      "\n",
      "    \n",
      "number should be between 1 and 7 inclusive, any number other than that will default to 7\n"
     ]
    },
    {
     "name": "stdin",
     "output_type": "stream",
     "text": [
      "please input integer:  3\n",
      "enter user:  user1\n",
      "enter user:  user2\n"
     ]
    },
    {
     "name": "stdout",
     "output_type": "stream",
     "text": [
      "\n",
      "    \n",
      "    1. Add a user to the platform.\n",
      "    2. Remove a user from the platform.\n",
      "    3. Send a friend request to another user.\n",
      "    4. Remove a friend from your list.\n",
      "    5. View your list of friends.\n",
      "    6. View the list of users on the platform.\n",
      "    7. Exit\n",
      "    - - - - - - - - - - - - - - -\n",
      "    Enter a choice:\n",
      "\n",
      "    \n",
      "number should be between 1 and 7 inclusive, any number other than that will default to 7\n"
     ]
    },
    {
     "name": "stdin",
     "output_type": "stream",
     "text": [
      "please input integer:  5\n",
      "enter user:  user5\n"
     ]
    },
    {
     "name": "stdout",
     "output_type": "stream",
     "text": [
      "user is not present\n",
      "\n",
      "    \n",
      "    1. Add a user to the platform.\n",
      "    2. Remove a user from the platform.\n",
      "    3. Send a friend request to another user.\n",
      "    4. Remove a friend from your list.\n",
      "    5. View your list of friends.\n",
      "    6. View the list of users on the platform.\n",
      "    7. Exit\n",
      "    - - - - - - - - - - - - - - -\n",
      "    Enter a choice:\n",
      "\n",
      "    \n",
      "number should be between 1 and 7 inclusive, any number other than that will default to 7\n"
     ]
    },
    {
     "name": "stdin",
     "output_type": "stream",
     "text": [
      "please input integer:  5\n",
      "enter user:  user2\n"
     ]
    },
    {
     "name": "stdout",
     "output_type": "stream",
     "text": [
      "user2 -> ['user1']\n",
      "\n",
      "    \n",
      "    1. Add a user to the platform.\n",
      "    2. Remove a user from the platform.\n",
      "    3. Send a friend request to another user.\n",
      "    4. Remove a friend from your list.\n",
      "    5. View your list of friends.\n",
      "    6. View the list of users on the platform.\n",
      "    7. Exit\n",
      "    - - - - - - - - - - - - - - -\n",
      "    Enter a choice:\n",
      "\n",
      "    \n",
      "number should be between 1 and 7 inclusive, any number other than that will default to 7\n"
     ]
    },
    {
     "name": "stdin",
     "output_type": "stream",
     "text": [
      "please input integer:  5\n",
      "enter user:  user1\n"
     ]
    },
    {
     "name": "stdout",
     "output_type": "stream",
     "text": [
      "user1 -> ['user2']\n",
      "\n",
      "    \n",
      "    1. Add a user to the platform.\n",
      "    2. Remove a user from the platform.\n",
      "    3. Send a friend request to another user.\n",
      "    4. Remove a friend from your list.\n",
      "    5. View your list of friends.\n",
      "    6. View the list of users on the platform.\n",
      "    7. Exit\n",
      "    - - - - - - - - - - - - - - -\n",
      "    Enter a choice:\n",
      "\n",
      "    \n",
      "number should be between 1 and 7 inclusive, any number other than that will default to 7\n"
     ]
    },
    {
     "name": "stdin",
     "output_type": "stream",
     "text": [
      "please input integer:  6\n"
     ]
    },
    {
     "name": "stdout",
     "output_type": "stream",
     "text": [
      "dict_keys(['user1', 'user2', 'user3'])\n",
      "\n",
      "    \n",
      "    1. Add a user to the platform.\n",
      "    2. Remove a user from the platform.\n",
      "    3. Send a friend request to another user.\n",
      "    4. Remove a friend from your list.\n",
      "    5. View your list of friends.\n",
      "    6. View the list of users on the platform.\n",
      "    7. Exit\n",
      "    - - - - - - - - - - - - - - -\n",
      "    Enter a choice:\n",
      "\n",
      "    \n",
      "number should be between 1 and 7 inclusive, any number other than that will default to 7\n"
     ]
    },
    {
     "name": "stdin",
     "output_type": "stream",
     "text": [
      "please input integer:  3\n",
      "enter user:  user1\n",
      "enter user:  user3\n"
     ]
    },
    {
     "name": "stdout",
     "output_type": "stream",
     "text": [
      "\n",
      "    \n",
      "    1. Add a user to the platform.\n",
      "    2. Remove a user from the platform.\n",
      "    3. Send a friend request to another user.\n",
      "    4. Remove a friend from your list.\n",
      "    5. View your list of friends.\n",
      "    6. View the list of users on the platform.\n",
      "    7. Exit\n",
      "    - - - - - - - - - - - - - - -\n",
      "    Enter a choice:\n",
      "\n",
      "    \n",
      "number should be between 1 and 7 inclusive, any number other than that will default to 7\n"
     ]
    },
    {
     "name": "stdin",
     "output_type": "stream",
     "text": [
      "please input integer:  5\n",
      "enter user:  user1\n"
     ]
    },
    {
     "name": "stdout",
     "output_type": "stream",
     "text": [
      "user1 -> ['user2', 'user3']\n",
      "\n",
      "    \n",
      "    1. Add a user to the platform.\n",
      "    2. Remove a user from the platform.\n",
      "    3. Send a friend request to another user.\n",
      "    4. Remove a friend from your list.\n",
      "    5. View your list of friends.\n",
      "    6. View the list of users on the platform.\n",
      "    7. Exit\n",
      "    - - - - - - - - - - - - - - -\n",
      "    Enter a choice:\n",
      "\n",
      "    \n",
      "number should be between 1 and 7 inclusive, any number other than that will default to 7\n"
     ]
    },
    {
     "name": "stdin",
     "output_type": "stream",
     "text": [
      "please input integer:  user1\n",
      "please input integer:  2\n",
      "enter user:  user2\n"
     ]
    },
    {
     "name": "stdout",
     "output_type": "stream",
     "text": [
      "\n",
      "    \n",
      "    1. Add a user to the platform.\n",
      "    2. Remove a user from the platform.\n",
      "    3. Send a friend request to another user.\n",
      "    4. Remove a friend from your list.\n",
      "    5. View your list of friends.\n",
      "    6. View the list of users on the platform.\n",
      "    7. Exit\n",
      "    - - - - - - - - - - - - - - -\n",
      "    Enter a choice:\n",
      "\n",
      "    \n",
      "number should be between 1 and 7 inclusive, any number other than that will default to 7\n"
     ]
    },
    {
     "name": "stdin",
     "output_type": "stream",
     "text": [
      "please input integer:  6\n"
     ]
    },
    {
     "name": "stdout",
     "output_type": "stream",
     "text": [
      "dict_keys(['user1', 'user3'])\n",
      "\n",
      "    \n",
      "    1. Add a user to the platform.\n",
      "    2. Remove a user from the platform.\n",
      "    3. Send a friend request to another user.\n",
      "    4. Remove a friend from your list.\n",
      "    5. View your list of friends.\n",
      "    6. View the list of users on the platform.\n",
      "    7. Exit\n",
      "    - - - - - - - - - - - - - - -\n",
      "    Enter a choice:\n",
      "\n",
      "    \n",
      "number should be between 1 and 7 inclusive, any number other than that will default to 7\n"
     ]
    },
    {
     "name": "stdin",
     "output_type": "stream",
     "text": [
      "please input integer:  5\n",
      "enter user:  user1\n"
     ]
    },
    {
     "name": "stdout",
     "output_type": "stream",
     "text": [
      "user1 -> ['user3']\n",
      "\n",
      "    \n",
      "    1. Add a user to the platform.\n",
      "    2. Remove a user from the platform.\n",
      "    3. Send a friend request to another user.\n",
      "    4. Remove a friend from your list.\n",
      "    5. View your list of friends.\n",
      "    6. View the list of users on the platform.\n",
      "    7. Exit\n",
      "    - - - - - - - - - - - - - - -\n",
      "    Enter a choice:\n",
      "\n",
      "    \n",
      "number should be between 1 and 7 inclusive, any number other than that will default to 7\n"
     ]
    },
    {
     "name": "stdin",
     "output_type": "stream",
     "text": [
      "please input integer:  99\n"
     ]
    }
   ],
   "source": [
    "def menu():\n",
    "    print('''\n",
    "    \n",
    "    1. Add a user to the platform.\n",
    "    2. Remove a user from the platform.\n",
    "    3. Send a friend request to another user.\n",
    "    4. Remove a friend from your list.\n",
    "    5. View your list of friends.\n",
    "    6. View the list of users on the platform.\n",
    "    7. Exit\n",
    "    - - - - - - - - - - - - - - -\n",
    "    Enter a choice:\n",
    "\n",
    "    ''')\n",
    "\n",
    "def choice():\n",
    "    print(\"number should be between 1 and 7 inclusive, any number other than that will default to 7\")\n",
    "    x = input(\"please input integer: \")\n",
    "    while (not x.isnumeric()):\n",
    "        x = input(\"please input integer: \")\n",
    "    x = int(x)\n",
    "    if(x>7 or x<=0):\n",
    "        x = 7\n",
    "    return x\n",
    "\n",
    "def get_user():\n",
    "    x = input(\"enter user: \")\n",
    "    return x;\n",
    "\n",
    "graph = AdjaencyMatrix()\n",
    "stop = False\n",
    "\n",
    "while (not stop):\n",
    "    \n",
    "    menu()\n",
    "    user_choice = choice()\n",
    "    \n",
    "    if user_choice == 1:\n",
    "        graph.addUser(get_user())\n",
    "    elif user_choice == 2:\n",
    "        graph.removeUser(get_user())\n",
    "    elif user_choice == 3:\n",
    "        graph.addEdge(get_user(), get_user())\n",
    "    elif user_choice == 4:\n",
    "        graph.removeEdge(get_user(), get_user())\n",
    "    elif user_choice == 5:\n",
    "        graph.displayGraph(get_user())\n",
    "    elif user_choice == 6:\n",
    "        print(graph.getUsers())\n",
    "    elif user_choice == 7:\n",
    "        stop = True\n"
   ]
  },
  {
   "cell_type": "code",
   "execution_count": null,
   "id": "f0b614c0-f69e-49c5-b66d-60b10a994a15",
   "metadata": {},
   "outputs": [],
   "source": []
  },
  {
   "cell_type": "code",
   "execution_count": null,
   "id": "2f284899-d429-446c-8f7c-92c25c994584",
   "metadata": {},
   "outputs": [],
   "source": []
  }
 ],
 "metadata": {
  "kernelspec": {
   "display_name": "Python 3 (ipykernel)",
   "language": "python",
   "name": "python3"
  },
  "language_info": {
   "codemirror_mode": {
    "name": "ipython",
    "version": 3
   },
   "file_extension": ".py",
   "mimetype": "text/x-python",
   "name": "python",
   "nbconvert_exporter": "python",
   "pygments_lexer": "ipython3",
   "version": "3.10.13"
  }
 },
 "nbformat": 4,
 "nbformat_minor": 5
}
