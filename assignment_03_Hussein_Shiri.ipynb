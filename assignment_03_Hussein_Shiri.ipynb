{
 "cells": [
  {
   "cell_type": "markdown",
   "id": "5f000689",
   "metadata": {},
   "source": [
    "### FSD\n",
    "### Simulating Student Data Frame"
   ]
  },
  {
   "cell_type": "markdown",
   "id": "ad556209",
   "metadata": {},
   "source": [
    "You need to create a simple data frame to represent information about students and their exam\n",
    "scores. Your data frame should be a list of dictionaries, where each dictionary represents a\n",
    "student's information. Each student's information should include the following fields:\n",
    "\n",
    "• 'Name' (string): The student's name.\n",
    "\n",
    "• 'Age' (integer): The student's age.\n",
    "\n",
    "• 'Scores' (tuple of integers): A tuple containing three exam scores (out of 100) for the\n",
    "student.\n",
    "\n",
    "Here's an example of a data frame with two students:"
   ]
  },
  {
   "cell_type": "code",
   "execution_count": 33,
   "id": "fe2218eb",
   "metadata": {},
   "outputs": [],
   "source": [
    "data_frame = [\n",
    "{\n",
    "\"Name\": \"Alice\",\n",
    "\"Age\": 20,\n",
    "\"Scores\": (85, 92, 78)\n",
    "},\n",
    "{\n",
    "\"Name\": \"Bob\",\n",
    "\"Age\": 21,\n",
    "\"Scores\": (78, 89, 95)\n",
    "}\n",
    "]"
   ]
  },
  {
   "cell_type": "markdown",
   "id": "f7b6dabe",
   "metadata": {},
   "source": [
    "Your task in this part is to create a data frame containing at least 5 students. Ensure that all the\n",
    "fields are accurate. Your program should start by displaying the following menu:"
   ]
  },
  {
   "cell_type": "markdown",
   "id": "36b88f09",
   "metadata": {},
   "source": [
    "1. Get Average Score\n",
    "2. Get Youngest Student\n",
    "3. Get Highest Score\n",
    "4. Add Student\n",
    "5. Remove Student\n",
    "6. Get Common Students\n",
    "7. Find Students with Consistent Improvement\n",
    "8. Exit\n",
    "- - - - - - - - - - - - - - -"
   ]
  },
  {
   "cell_type": "markdown",
   "id": "d8493c47",
   "metadata": {},
   "source": [
    "Choice 1: This function takes the data frame as an argument and returns a dictionary where the\n",
    "keys are student names, and the values are the average scores of the students. "
   ]
  },
  {
   "cell_type": "code",
   "execution_count": 3,
   "id": "07b94786",
   "metadata": {},
   "outputs": [
    {
     "data": {
      "text/plain": [
       "{'Alice': 85.0, 'Bob': 87.33333333333333}"
      ]
     },
     "execution_count": 3,
     "metadata": {},
     "output_type": "execute_result"
    }
   ],
   "source": [
    "def avg(df):\n",
    "    dct_to_rtrn = {}\n",
    "    for dct in df:\n",
    "        dct_to_rtrn[dct[\"Name\"]] = sum(dct[\"Scores\"])/len(dct[\"Scores\"])\n",
    "    return dct_to_rtrn\n",
    "\n",
    "avg(data_frame)"
   ]
  },
  {
   "cell_type": "markdown",
   "id": "8485fe43",
   "metadata": {},
   "source": [
    "Choice 2: This function takes the data frame as an argument and returns the name of the\n",
    "youngest student."
   ]
  },
  {
   "cell_type": "code",
   "execution_count": 5,
   "id": "0d78e473",
   "metadata": {},
   "outputs": [
    {
     "data": {
      "text/plain": [
       "'Alice'"
      ]
     },
     "execution_count": 5,
     "metadata": {},
     "output_type": "execute_result"
    }
   ],
   "source": [
    "def youngest_std(df):\n",
    "    age = df[0][\"Age\"]\n",
    "    name = df[0][\"Name\"]\n",
    "    for dct in df:\n",
    "        if dct[\"Age\"] < age:\n",
    "            age = dct[\"Age\"]\n",
    "            name = dct[\"Name\"]\n",
    "    return name\n",
    "\n",
    "youngest_std(data_frame)"
   ]
  },
  {
   "cell_type": "markdown",
   "id": "7fe72d1d",
   "metadata": {},
   "source": [
    "Choice 3: This function takes the data frame as an argument and returns the name of the student\n",
    "with the highest total score (the sum of all three exam scores)."
   ]
  },
  {
   "cell_type": "code",
   "execution_count": 6,
   "id": "e46e5b4e",
   "metadata": {},
   "outputs": [
    {
     "data": {
      "text/plain": [
       "'Bob'"
      ]
     },
     "execution_count": 6,
     "metadata": {},
     "output_type": "execute_result"
    }
   ],
   "source": [
    "def high_score_std(df):\n",
    "    score = 0\n",
    "    name = \"\"\n",
    "    for dct in df:\n",
    "        if sum(dct[\"Scores\"]) > score:\n",
    "            score = sum(dct[\"Scores\"])\n",
    "            name = dct[\"Name\"]\n",
    "    return name\n",
    "\n",
    "high_score_std(data_frame)"
   ]
  },
  {
   "cell_type": "markdown",
   "id": "6c1a60ee",
   "metadata": {},
   "source": [
    "Choice 4: This function takes the data frame, a name, an age, and a tuple of exam scores as\n",
    "arguments and adds a new student to the data frame."
   ]
  },
  {
   "cell_type": "code",
   "execution_count": 7,
   "id": "996a9850",
   "metadata": {},
   "outputs": [
    {
     "name": "stdout",
     "output_type": "stream",
     "text": [
      "[{'Name': 'Alice', 'Age': 20, 'Scores': (85, 92, 78)}, {'Name': 'Bob', 'Age': 21, 'Scores': (78, 89, 95)}, {'Name': 'Hussein', 'Age': 22, 'Scores': (80, 85, 90)}]\n"
     ]
    }
   ],
   "source": [
    "def add_std(df, name, age, scores):\n",
    "    df_to_apnd = {\n",
    "    \"Name\": name,\n",
    "    \"Age\": age,\n",
    "    \"Scores\": scores\n",
    "    }\n",
    "    df.append(df_to_apnd)\n",
    "    \n",
    "add_std(data_frame, \"Hussein\", 22, (80, 85, 90))\n",
    "print(data_frame)"
   ]
  },
  {
   "cell_type": "markdown",
   "id": "5770f915",
   "metadata": {},
   "source": [
    "Choice 5: This function takes the data frame and a name as arguments and removes the student\n",
    "with the given name from the data frame."
   ]
  },
  {
   "cell_type": "code",
   "execution_count": 8,
   "id": "800cd777",
   "metadata": {},
   "outputs": [
    {
     "data": {
      "text/plain": [
       "[{'Name': 'Alice', 'Age': 20, 'Scores': (85, 92, 78)},\n",
       " {'Name': 'Bob', 'Age': 21, 'Scores': (78, 89, 95)}]"
      ]
     },
     "execution_count": 8,
     "metadata": {},
     "output_type": "execute_result"
    }
   ],
   "source": [
    "def rmv_std(df, name):\n",
    "    for i in range(len(df)):\n",
    "        if df[i][\"Name\"] == name:\n",
    "            df.pop(i)\n",
    "\n",
    "rmv_std(data_frame, \"Hussein\")\n",
    "data_frame"
   ]
  },
  {
   "cell_type": "markdown",
   "id": "86e3746e",
   "metadata": {},
   "source": [
    "Choice 6: This function takes two data frames as arguments and returns a set of student names\n",
    "who appear in both data frames. It checks for common students based on their names."
   ]
  },
  {
   "cell_type": "code",
   "execution_count": 12,
   "id": "688ed7c7",
   "metadata": {},
   "outputs": [
    {
     "data": {
      "text/plain": [
       "['Alice', 'Bob']"
      ]
     },
     "execution_count": 12,
     "metadata": {},
     "output_type": "execute_result"
    }
   ],
   "source": [
    "from collections import Counter\n",
    "\n",
    "def cmn_std(df1, df2):\n",
    "    df1_std = [dct[\"Name\"] for dct in df1]\n",
    "    df2_std = [dct[\"Name\"] for dct in df2]\n",
    "    df_std = df1_std + df2_std\n",
    "    df = dict(Counter(df_std))\n",
    "    lst = [key for key in df.keys() if df[key] > 1]\n",
    "    return lst\n",
    "\n",
    "cmn_std(data_frame, data_frame)"
   ]
  },
  {
   "cell_type": "markdown",
   "id": "b9726e95",
   "metadata": {},
   "source": [
    "Choice 8: This function identifies students who have shown consistent improvement in their\n",
    "scores in all three exams (example: (78, 89, 95) ). It takes the data frame as an argument and\n",
    "returns a tuple of such students (their name)."
   ]
  },
  {
   "cell_type": "code",
   "execution_count": 34,
   "id": "1c20abea",
   "metadata": {},
   "outputs": [
    {
     "data": {
      "text/plain": [
       "('Bob',)"
      ]
     },
     "execution_count": 34,
     "metadata": {},
     "output_type": "execute_result"
    }
   ],
   "source": [
    "def grades_improve(df):\n",
    "    std = []\n",
    "    for dct in df:\n",
    "        if sorted(list(dct[\"Scores\"])) == list(dct[\"Scores\"]):\n",
    "            std = std + [dct[\"Name\"]]\n",
    "    return tuple(std)\n",
    "\n",
    "grades_improve(data_frame)"
   ]
  },
  {
   "cell_type": "markdown",
   "id": "5e292cf8",
   "metadata": {},
   "source": [
    "### putting it all together"
   ]
  },
  {
   "cell_type": "code",
   "execution_count": 31,
   "id": "7efe6bee",
   "metadata": {},
   "outputs": [],
   "source": [
    "data_frame = [\n",
    "{\n",
    "\"Name\": \"Alice\",\n",
    "\"Age\": 20,\n",
    "\"Scores\": (85, 92, 78)\n",
    "},\n",
    "{\n",
    "\"Name\": \"Bob\",\n",
    "\"Age\": 21,\n",
    "\"Scores\": (78, 89, 95)\n",
    "},\n",
    "{\n",
    "\"Name\": \"Jaafar\",\n",
    "\"Age\": 22,\n",
    "\"Scores\": (86, 93, 99)\n",
    "},\n",
    "{\n",
    "\"Name\": \"Hadi\",\n",
    "\"Age\": 19,\n",
    "\"Scores\": (78, 88, 97)\n",
    "},\n",
    "{\n",
    "\"Name\": \"Marry\",\n",
    "\"Age\": 23,\n",
    "\"Scores\": (78, 74, 72)\n",
    "}\n",
    "]\n",
    "\n",
    "data_frame2 = [\n",
    "    {\n",
    "\"Name\": \"Jaafar\",\n",
    "\"Age\": 20,\n",
    "\"Scores\": (85, 92, 78)\n",
    "},\n",
    "{\n",
    "\"Name\": \"Mohannad\",\n",
    "\"Age\": 21,\n",
    "\"Scores\": (78, 89, 95)\n",
    "}\n",
    "]"
   ]
  },
  {
   "cell_type": "code",
   "execution_count": 32,
   "id": "47283579",
   "metadata": {},
   "outputs": [
    {
     "name": "stdout",
     "output_type": "stream",
     "text": [
      "\n",
      "\n",
      "   1. Get Average Score\n",
      "   2. Get Youngest Student\n",
      "   3. Get Highest Score\n",
      "   4. Add Student\n",
      "   5. Remove Student\n",
      "   6. Get Common Students\n",
      "   8. Find Students with Consistent Improvement\n",
      "   7. Exit\n",
      "   ---------------------------\n",
      "\n",
      "\n",
      "\n",
      "enter a choice: 1\n",
      "{'Alice': 85.0, 'Bob': 87.33333333333333, 'Jaafar': 92.66666666666667, 'Hadi': 87.66666666666667, 'Marry': 74.66666666666667}\n",
      "enter a choice: 2\n",
      "Hadi\n",
      "enter a choice: 3\n",
      "Jaafar\n",
      "enter a choice: 4\n",
      "enter age: 25\n",
      "name: Ali\n",
      "score44\n",
      "score67\n",
      "score87\n",
      "[{'Name': 'Alice', 'Age': 20, 'Scores': (85, 92, 78)}, {'Name': 'Bob', 'Age': 21, 'Scores': (78, 89, 95)}, {'Name': 'Jaafar', 'Age': 22, 'Scores': (86, 93, 99)}, {'Name': 'Hadi', 'Age': 19, 'Scores': (78, 88, 97)}, {'Name': 'Marry', 'Age': 23, 'Scores': (78, 74, 72)}, {'Name': 'Ali', 'Age': 25, 'Scores': (44, 67, 87)}]\n",
      "enter a choice: 5\n",
      "name: Ali\n",
      "[{'Name': 'Alice', 'Age': 20, 'Scores': (85, 92, 78)}, {'Name': 'Bob', 'Age': 21, 'Scores': (78, 89, 95)}, {'Name': 'Jaafar', 'Age': 22, 'Scores': (86, 93, 99)}, {'Name': 'Hadi', 'Age': 19, 'Scores': (78, 88, 97)}, {'Name': 'Marry', 'Age': 23, 'Scores': (78, 74, 72)}]\n",
      "enter a choice: 6\n",
      "['Jaafar']\n",
      "enter a choice: 8\n",
      "('Bob', 'Jaafar', 'Hadi')\n",
      "enter a choice: 7\n"
     ]
    }
   ],
   "source": [
    "choice = 1\n",
    "\n",
    "to_print = \"\"\"\n",
    "\n",
    "   1. Get Average Score\n",
    "   2. Get Youngest Student\n",
    "   3. Get Highest Score\n",
    "   4. Add Student\n",
    "   5. Remove Student\n",
    "   6. Get Common Students\n",
    "   8. Find Students with Consistent Improvement\n",
    "   7. Exit\n",
    "   ---------------------------\n",
    "\n",
    "\"\"\"\n",
    "\n",
    "print(to_print + '\\n')\n",
    "\n",
    "while (choice != 7):\n",
    "    choice = int(input(\"enter a choice: \"))\n",
    "    if choice == 1:\n",
    "        print(avg(data_frame))\n",
    "    elif choice == 2:\n",
    "        print(youngest_std(data_frame))\n",
    "    elif choice == 3:\n",
    "        print(high_score_std(data_frame))\n",
    "    elif choice == 4:\n",
    "        age = int(input(\"enter age: \"))\n",
    "        name = input(\"name: \")\n",
    "        scores = [int(input(\"score\")) for i in range(3)]\n",
    "        add_std(data_frame, name, age, tuple(scores))\n",
    "        print(data_frame)\n",
    "    elif choice == 5:\n",
    "        name = input(\"name: \")\n",
    "        rmv_std(data_frame, name)\n",
    "        print(data_frame)\n",
    "    elif choice == 6:\n",
    "        print(cmn_std(data_frame, data_frame2))\n",
    "    elif choice == 8:\n",
    "        print(grades_improve(data_frame))"
   ]
  },
  {
   "cell_type": "code",
   "execution_count": null,
   "id": "582f7f67",
   "metadata": {},
   "outputs": [],
   "source": []
  }
 ],
 "metadata": {
  "kernelspec": {
   "display_name": "Python 3 (ipykernel)",
   "language": "python",
   "name": "python3"
  },
  "language_info": {
   "codemirror_mode": {
    "name": "ipython",
    "version": 3
   },
   "file_extension": ".py",
   "mimetype": "text/x-python",
   "name": "python",
   "nbconvert_exporter": "python",
   "pygments_lexer": "ipython3",
   "version": "3.9.12"
  }
 },
 "nbformat": 4,
 "nbformat_minor": 5
}
