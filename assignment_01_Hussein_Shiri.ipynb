{
 "cells": [
  {
   "cell_type": "markdown",
   "id": "2dfb20e6",
   "metadata": {},
   "source": [
    "### FCS CYCLE 49\n",
    "### Assignment 1\n",
    "### Due Date: October 21, 10am"
   ]
  },
  {
   "cell_type": "markdown",
   "id": "710187a3",
   "metadata": {},
   "source": [
    "1.Write a function that takes an integer from the user and calculates its factorial, (The\n",
    "factorial of a non-negative integer n, denoted by n!, is the product of all positive integers\n",
    "less than or equal to n)\n",
    "\n",
    "Example 1: Input: 4, Output: 24 (1 * 2 * 3 * 4)\n",
    "\n",
    "Example 2: Input: 6, Output: 720 (1 * 2 * 3 * 4 * 5 * 6)\n",
    "\n",
    "Example 3: Input: 1, Output: 1"
   ]
  },
  {
   "cell_type": "code",
   "execution_count": 17,
   "id": "0449adc2",
   "metadata": {},
   "outputs": [
    {
     "name": "stdout",
     "output_type": "stream",
     "text": [
      "1\n",
      "\n",
      "1\n",
      "\n",
      "24(1*2*3*4)\n",
      "720(1*2*3*4*5*6)\n"
     ]
    }
   ],
   "source": [
    "def factorial(n):\n",
    "    \n",
    "    list_of_numbers = []\n",
    "    final_result = 1\n",
    "    \n",
    "    if (n == 0 or n == 1):\n",
    "        print(final_result, end = \"\")\n",
    "        \n",
    "    else:\n",
    "        i = 1\n",
    "        while (i <= n):\n",
    "            list_of_numbers.append(str(i))\n",
    "            final_result *= i\n",
    "            i = i+1\n",
    "        print(final_result, end = \"\")\n",
    "        print(\"(\" + \"*\".join(list_of_numbers) + \")\")\n",
    "\n",
    "factorial(0)\n",
    "print(\"\\n\")\n",
    "factorial(1)\n",
    "print(\"\\n\")\n",
    "factorial(4)\n",
    "factorial(6)"
   ]
  },
  {
   "cell_type": "markdown",
   "id": "9d67a6d9",
   "metadata": {},
   "source": [
    "### Exercise 2:\n",
    "2.Write a function that takes an integer as an input from the user and finds all its divisors\n",
    "and stores them in a list.\n",
    "\n",
    "Example 1: Input: 10, Output: [1, 2, 5, 10]\n",
    "\n",
    "Example 2: Input: 16, Output: [1, 2, 4, 8, 16]\n",
    "\n",
    "Example 3: input: 5, Output: []"
   ]
  },
  {
   "cell_type": "code",
   "execution_count": 30,
   "id": "50cae6ac",
   "metadata": {},
   "outputs": [
    {
     "name": "stdout",
     "output_type": "stream",
     "text": [
      "please enter an integer: f\n",
      "please enter an integer: 3.4\n",
      "please enter an integer: 16\n"
     ]
    }
   ],
   "source": [
    "user_input = input(\"please enter an integer: \")\n",
    "while (not user_input.isnumeric()):\n",
    "    user_input = input(\"please enter an integer: \")\n",
    "user_input = int(user_input)"
   ]
  },
  {
   "cell_type": "code",
   "execution_count": 31,
   "id": "85982e29",
   "metadata": {},
   "outputs": [
    {
     "name": "stdout",
     "output_type": "stream",
     "text": [
      "[1, 2, 4, 8, 16]\n"
     ]
    }
   ],
   "source": [
    "def divisors(n):\n",
    "    list_of_divisors = []\n",
    "    if (n >= 10):\n",
    "        list_of_divisors = [i for i in range(1, n+1) if n%i == 0]\n",
    "    print(list_of_divisors)\n",
    "\n",
    "divisors(user_input)"
   ]
  },
  {
   "cell_type": "markdown",
   "id": "3f98afdc",
   "metadata": {},
   "source": [
    "### Exercise 3:"
   ]
  },
  {
   "cell_type": "markdown",
   "id": "5c22230f",
   "metadata": {},
   "source": [
    "Write a function called reverseString that takes a string as input from the user and returns\n",
    "the string reversed. You must use a loop to implement the reversal, and you cannot use any\n",
    "built-in string or list reversal functions.\n",
    "\n",
    "Example 1: Input: “Hello World”, Output: “dlroW olleH”\n",
    "\n",
    "Example 2: Input: “oneword”, Output: “droweno”"
   ]
  },
  {
   "cell_type": "code",
   "execution_count": 5,
   "id": "1b04e265",
   "metadata": {},
   "outputs": [
    {
     "name": "stdout",
     "output_type": "stream",
     "text": [
      "dlroW olleH\n",
      "droweno\n"
     ]
    }
   ],
   "source": [
    "#other way but will not be used here return sentence[::-1]\n",
    "def reverse(sentence):\n",
    "    reversed_sentence = ''\n",
    "    \n",
    "    for letter in sentence:\n",
    "        reversed_sentence = letter + reversed_sentence\n",
    "        \n",
    "    return reversed_sentence\n",
    "\n",
    "print(reverse('Hello World'))\n",
    "print(reverse('oneword'))"
   ]
  },
  {
   "cell_type": "markdown",
   "id": "147bdee5",
   "metadata": {},
   "source": [
    "### Exercise 4:"
   ]
  },
  {
   "cell_type": "markdown",
   "id": "c7229eb1",
   "metadata": {},
   "source": [
    "Write a function that takes a list of integers as input from the user and returns a new list\n",
    "containing only the even numbers from the original list, in the same order.\n",
    "\n",
    "Example 1: Input: [1, 2, 3, 4, 5, 6], Output: [2, 4, 6]\n",
    "\n",
    "Example 2: Input: [5, 3, 18, 4, 2, 7, 10], Output: [18, 4, 2, 10]\n",
    "\n",
    "Example 3: Input: [5, 3, 11, 5, 1, 7, 27], Output: []"
   ]
  },
  {
   "cell_type": "code",
   "execution_count": 7,
   "id": "ccdcd077",
   "metadata": {},
   "outputs": [
    {
     "name": "stdout",
     "output_type": "stream",
     "text": [
      "[2, 4, 6]\n",
      "[18, 4, 2, 10]\n",
      "[]\n"
     ]
    }
   ],
   "source": [
    "def even_int(list_of_integers):\n",
    "    final_list_of_integers = [i for i in list_of_integers if i%2 == 0]\n",
    "    return final_list_of_integers\n",
    "\n",
    "print(even_int([1, 2, 3, 4, 5, 6]))\n",
    "print(even_int([5, 3, 18, 4, 2, 7, 10]))\n",
    "print(even_int([5, 3, 11, 5, 1, 7, 27]))"
   ]
  },
  {
   "cell_type": "markdown",
   "id": "4d942dbc",
   "metadata": {},
   "source": [
    "### Exercise 5:"
   ]
  },
  {
   "cell_type": "markdown",
   "id": "66bb2857",
   "metadata": {},
   "source": [
    "Write a function that takes a string as input and checks whether it meets the requirements\n",
    "for a strong password. A strong password should be at least 8 characters long, contain at\n",
    "least one uppercase letter, one lowercase letter, one digit, and one special character (a\n",
    "special character is either #, ?, !, $).\n",
    "\n",
    "Example 1: Input: “Hello5?world” Output: “Strong password”\n",
    "\n",
    "Example 2: Input: “password” Output: “Weak password”\n",
    "\n",
    "Example 3: Input: “Password123” Output: “Weak password”"
   ]
  },
  {
   "cell_type": "code",
   "execution_count": 34,
   "id": "72e3e18b",
   "metadata": {},
   "outputs": [
    {
     "name": "stdout",
     "output_type": "stream",
     "text": [
      "Strong password\n",
      "Weak password\n",
      "Weak password\n"
     ]
    }
   ],
   "source": [
    "import re\n",
    "def password_strength(password):\n",
    "    \n",
    "    strong = True\n",
    "    if not re.search('[A-Z]', password):\n",
    "        strong = strong and False\n",
    "    \n",
    "    if not re.search('[a-z]', password):\n",
    "        strong = strong and False\n",
    "    \n",
    "    if not re.search('[0-9]', password):\n",
    "        strong = strong and False\n",
    "    \n",
    "    if not ('#' in password or '!' in password or '?' in password or '$' in password):\n",
    "        strong = strong and False\n",
    "    \n",
    "    if strong == True:\n",
    "        print(\"Strong password\")\n",
    "    else:\n",
    "        print(\"Weak password\")\n",
    "\n",
    "password_strength(\"Hello5?world\")\n",
    "password_strength(\"password\")\n",
    "password_strength(\"Password123\")"
   ]
  },
  {
   "cell_type": "markdown",
   "id": "408cfb01",
   "metadata": {},
   "source": [
    "### Bonus Exrecise 1:"
   ]
  },
  {
   "cell_type": "markdown",
   "id": "0deaf118",
   "metadata": {},
   "source": [
    "BONUS QUESTION (For FSD Peeps): Write a function that takes a list of integers as\n",
    "input and calculates their descriptive statistics. The function should print out the following\n",
    "statistical measures:\n",
    "\n",
    "• Mean: The average of the numbers in the list.\n",
    "\n",
    "• Median: The middle value when the numbers are sorted in ascending order. If\n",
    "there's an even number of values, take the average of the two middle values.\n",
    "\n",
    "• Mode: The number that appears most frequently in the list. If there's no mode (all\n",
    "numbers appear with the same frequency), indicate it as \"No mode.\"\n",
    "\n",
    "• Range: The difference between the maximum and minimum values in the list.\n",
    "\n",
    "• Variance: The average of the squared differences from the Mean.\n",
    "\n",
    "• Standard Deviation: The square root of the Variance."
   ]
  },
  {
   "cell_type": "markdown",
   "id": "69b191b9",
   "metadata": {},
   "source": [
    "Here's an example of the expected input and output:\n",
    "\n",
    "Input: [3, 2, 4, 1, 2, 3, 4, 5] Output:\n",
    "\n",
    "Mean: 3.0\n",
    "\n",
    "Median: 3.0\n",
    "\n",
    "Mode: 2\n",
    "\n",
    "Range: 4\n",
    "\n",
    "Variance: 1.25\n",
    "\n",
    "Standard Deviation: 1.118033988749895\n",
    "\n",
    "Note: You might need to do some extra research to understand the meaning of some these\n",
    "descriptive statistics and you are not allowed to import any library that does them all\n",
    "to you, you have to implement them by scratch."
   ]
  },
  {
   "cell_type": "code",
   "execution_count": 18,
   "id": "db52691e",
   "metadata": {},
   "outputs": [
    {
     "name": "stdout",
     "output_type": "stream",
     "text": [
      "[1, 2, 2, 3, 3, 4, 4, 5]\n",
      "Average: 3.0\n",
      "Median: 3.0\n",
      "Mode: 2\n",
      "Range: 4\n",
      "Variance: 1.5\n",
      "Standard Deviation: 1.224744871391589\n"
     ]
    }
   ],
   "source": [
    "def fsd(list_of_int):\n",
    "    \n",
    "    len_list = len(list_of_int)\n",
    "    list_of_int = sorted(list_of_int)\n",
    "    print(list_of_int)\n",
    "    \n",
    "    # Finding the average\n",
    "    s = 0\n",
    "    for i in list_of_int:\n",
    "        s = s + i\n",
    "    avg = s/len_list\n",
    "    print(f\"Average: {avg}\")\n",
    "    \n",
    "    # Finding the median\n",
    "    index = int(len_list/2)\n",
    "    if len_list%2 == 0:\n",
    "        median = (list_of_int[index] + list_of_int[index - 1])/2\n",
    "    else:\n",
    "        median = list_of_int[index]\n",
    "    print(f\"Median: {median}\")\n",
    "    \n",
    "    # Finding the mode\n",
    "    count = {}\n",
    "    mode = 0\n",
    "    for num in list_of_int:\n",
    "        if num not in count:\n",
    "            count[num] = 1\n",
    "        else:\n",
    "            count[num] += 1\n",
    "    \n",
    "    maximum = 0\n",
    "    for num in count:\n",
    "        if int(count[num]) > maximum:\n",
    "            maximum = count[num]\n",
    "            mode = num\n",
    "    print(f\"Mode: {mode}\")\n",
    "    \n",
    "    # Finding the range\n",
    "    print(f\"Range: {max(list_of_int) - min(list_of_int)}\")\n",
    "    \n",
    "    # Finding the variance\n",
    "    s = 0\n",
    "    for num in list_of_int:\n",
    "        s = s + (num - avg)**2\n",
    "    var = s/len_list\n",
    "    print(f\"Variance: {var}\")\n",
    "    \n",
    "    # Finding the standard deviation\n",
    "    print(f\"Standard Deviation: {var**(0.5)}\")\n",
    "        \n",
    "\n",
    "fsd([3, 2, 4, 1, 2, 3, 4, 5])"
   ]
  },
  {
   "cell_type": "markdown",
   "id": "8891dc96",
   "metadata": {},
   "source": [
    "### Bonus Exercise 2:"
   ]
  },
  {
   "cell_type": "markdown",
   "id": "54050674",
   "metadata": {},
   "source": [
    "BONUS QUESTION (For FSW Peeps): Write a function that takes a string as input and\n",
    "checks whether it is a valid IPv4 address. A valid IPv4 address is a string of four numbers\n",
    "separated by periods, where each number is between 0 and 255. For example,\n",
    "\"192.168.1.1\" is a valid IPv4 address. (You should research more about IPv4).\n",
    "\n",
    "Here are examples of strings that would be considered valid IPv4 addresses:\n",
    "\n",
    "\"192.168.1.1\"\n",
    "\n",
    "\"172.16.0.0\"\n",
    "\n",
    "\"10.0.0.1\"\n",
    "\n",
    "\"255.255.255.0\"\n",
    "\n",
    "here are examples of strings that would be considered invalid IPv4 addresses:\n",
    "\n",
    "\"256.168.1.1\" (octet value too large)\n",
    "\n",
    "\"192.168.1\" (missing octet)\n",
    "\n",
    "\"10.0.0.01\" (leading zero in octet)\n",
    "\n",
    "\"192.168.01.1\" (leading zero in octet)\n",
    "\n",
    "\"192.168.1.1.1\" (extra period)\n",
    "\n",
    "\"192.168..1\" (consecutive periods)\n",
    "\n",
    "\"192.168.1.-1\" (negative number)\n",
    "\n",
    "Note: an octet is each number for example 192 or 255. An octet can be 0 for example\n",
    "0.192.1.1 is valid but it cannot start with 0 for example 01.192.1.1 is invalid."
   ]
  },
  {
   "cell_type": "code",
   "execution_count": 22,
   "id": "cc22076f",
   "metadata": {},
   "outputs": [
    {
     "name": "stdout",
     "output_type": "stream",
     "text": [
      "True\n",
      "True\n",
      "True\n",
      "True\n",
      "False\n",
      "False\n",
      "False\n",
      "False\n",
      "False\n",
      "False\n",
      "False\n"
     ]
    }
   ],
   "source": [
    "def valid_ip(ip):\n",
    "    ip_list = ip.split(\".\")\n",
    "    if len(ip_list) != 4:\n",
    "        return False\n",
    "    else:\n",
    "        for part in ip_list:\n",
    "            if len(part) == 0:\n",
    "                return False\n",
    "            if int(part) < 0 or int(part) >255 or (len(part) > 1 and part[0] == '0'):\n",
    "                return False\n",
    "        return True\n",
    "\n",
    "print(valid_ip(\"192.168.1.1\"))\n",
    "print(valid_ip(\"172.16.0.0\"))\n",
    "print(valid_ip(\"10.0.0.1\"))\n",
    "print(valid_ip(\"255.255.255.0\"))\n",
    "\n",
    "print(valid_ip(\"256.168.1.1\"))\n",
    "print(valid_ip(\"192.168.1\"))\n",
    "print(valid_ip(\"10.0.0.01\"))\n",
    "print(valid_ip(\"192.168.01.1\"))\n",
    "print(valid_ip(\"192.168.1.1.1\"))\n",
    "print(valid_ip(\"192.168..1\"))\n",
    "print(valid_ip(\"192.168.1.-1\" ))"
   ]
  },
  {
   "cell_type": "code",
   "execution_count": null,
   "id": "8abdf203",
   "metadata": {},
   "outputs": [],
   "source": []
  }
 ],
 "metadata": {
  "kernelspec": {
   "display_name": "Python 3 (ipykernel)",
   "language": "python",
   "name": "python3"
  },
  "language_info": {
   "codemirror_mode": {
    "name": "ipython",
    "version": 3
   },
   "file_extension": ".py",
   "mimetype": "text/x-python",
   "name": "python",
   "nbconvert_exporter": "python",
   "pygments_lexer": "ipython3",
   "version": "3.9.12"
  }
 },
 "nbformat": 4,
 "nbformat_minor": 5
}
